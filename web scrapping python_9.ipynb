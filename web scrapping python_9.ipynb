{
 "cells": [
  {
   "cell_type": "code",
   "execution_count": 39,
   "metadata": {
    "ExecuteTime": {
     "end_time": "2023-05-28T11:51:52.017816Z",
     "start_time": "2023-05-28T11:51:50.422274Z"
    }
   },
   "outputs": [],
   "source": [
    "import requests\n",
    "from bs4 import BeautifulSoup\n",
    "def get(link):\n",
    "    HEADERS = {\n",
    "    \"User-Agent\": \"Mozilla/5.0 (Windows NT 10.0; Win64; x64) AppleWebKit/537.36 (KHTML, like Gecko) Chrome/62.0.3202.94 Safari/537.36\",\n",
    "    \"Accept\": \"text/html,application/xhtml+xml,application/xml;q=0.9,image/webp,image/apng,*/*;q=0.8\",\n",
    "    \"Connection\": \"keep-alive\",\n",
    "    \"Accept-Language\": \"en-US,en;q=0.9,lt;q=0.8,et;q=0.7,de;q=0.6\",\n",
    "    }\n",
    "    page = requests.get(link,headers= HEADERS)\n",
    "    soup = BeautifulSoup(page.content,'html.parser')\n",
    "    return soup\n",
    "link = \"https://www.avito.ma/fr/maroc/t%C3%A9l%C3%A9phones-%C3%A0_vendre\"\n",
    "soup = get(link)"
   ]
  },
  {
   "cell_type": "code",
   "execution_count": 40,
   "metadata": {
    "ExecuteTime": {
     "end_time": "2023-05-28T11:51:54.414126Z",
     "start_time": "2023-05-28T11:51:54.374327Z"
    }
   },
   "outputs": [],
   "source": [
    "container = soup.find(\"div\",{\"class\":\"sc-1nre5ec-1 fzpnun listing\"})\n",
    "phones = container.find_all('div', {\"class\":['sc-jejop8-0 kyKuDw', 'sc-jejop8-0 epNjzr']})"
   ]
  },
  {
   "cell_type": "code",
   "execution_count": 38,
   "metadata": {
    "ExecuteTime": {
     "end_time": "2023-05-28T11:42:35.913959Z",
     "start_time": "2023-05-28T11:42:35.905981Z"
    }
   },
   "outputs": [],
   "source": [
    "linkP = []\n",
    "for phone in phones:\n",
    "    l = phone.find(\"a\")[\"href\"]\n",
    "    linkP.append(l)"
   ]
  },
  {
   "cell_type": "code",
   "execution_count": 48,
   "metadata": {
    "ExecuteTime": {
     "end_time": "2023-05-28T11:54:56.568461Z",
     "start_time": "2023-05-28T11:54:56.228651Z"
    }
   },
   "outputs": [
    {
     "name": "stdout",
     "output_type": "stream",
     "text": [
      "Samsung buds pro\n",
      "\n",
      " Samsung buds pro\n",
      "https://www.avito.ma/fr/casablanca/téléphones/Samsung_buds_pro_51191513.htm\n"
     ]
    }
   ],
   "source": [
    "for link in linkP:\n",
    "    phoneContent = get(link)\n",
    "    name = phoneContent.find(\"div\",{\"class\":\"sc-1g3sn3w-9 gIlAYt\"})\n",
    "    name_2 = phoneContent.select(\"#__next > div > main > div > div.sc-1g3sn3w-1.gNPXAX > div.sc-1gfa0w0-0.eEIzaP > div:nth-child(2) > div.sc-1lz4h6h-0.bwyZKL > div.sc-1g3sn3w-0.entgQz > div.sc-1g3sn3w-4.eTmXXQ > div.sc-1g3sn3w-8.eWcCMq > div.sc-1g3sn3w-6.haePlb > div.sc-1g3sn3w-9.gIlAYt > h1\")\n",
    "    \n",
    "    print(name.text)\n",
    "    print(\"\\n\",name_2[0].text)\n",
    "    print(link)\n",
    "    break"
   ]
  },
  {
   "cell_type": "code",
   "execution_count": 23,
   "metadata": {
    "ExecuteTime": {
     "end_time": "2023-05-28T10:17:56.733682Z",
     "start_time": "2023-05-28T10:17:56.702765Z"
    }
   },
   "outputs": [
    {
     "data": {
      "text/plain": [
       "35"
      ]
     },
     "execution_count": 23,
     "metadata": {},
     "output_type": "execute_result"
    }
   ],
   "source": []
  },
  {
   "cell_type": "code",
   "execution_count": null,
   "metadata": {},
   "outputs": [],
   "source": [
    "# select paragraphs from wikipedia\n",
    "container = soup.find(\"div\",{\"id\":\"mw-content-text\"})\n",
    "paras = container.find_all(\"p\")\n",
    "len(paras)\n",
    "for para in paras[:5]:\n",
    "    print(para.text)"
   ]
  }
 ],
 "metadata": {
  "kernelspec": {
   "display_name": "Python 3",
   "language": "python",
   "name": "python3"
  },
  "language_info": {
   "codemirror_mode": {
    "name": "ipython",
    "version": 3
   },
   "file_extension": ".py",
   "mimetype": "text/x-python",
   "name": "python",
   "nbconvert_exporter": "python",
   "pygments_lexer": "ipython3",
   "version": "3.6.8"
  },
  "varInspector": {
   "cols": {
    "lenName": 16,
    "lenType": 16,
    "lenVar": 40
   },
   "kernels_config": {
    "python": {
     "delete_cmd_postfix": "",
     "delete_cmd_prefix": "del ",
     "library": "var_list.py",
     "varRefreshCmd": "print(var_dic_list())"
    },
    "r": {
     "delete_cmd_postfix": ") ",
     "delete_cmd_prefix": "rm(",
     "library": "var_list.r",
     "varRefreshCmd": "cat(var_dic_list()) "
    }
   },
   "types_to_exclude": [
    "module",
    "function",
    "builtin_function_or_method",
    "instance",
    "_Feature"
   ],
   "window_display": false
  }
 },
 "nbformat": 4,
 "nbformat_minor": 4
}
